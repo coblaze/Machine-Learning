{
  "cells": [
    {
      "cell_type": "markdown",
      "metadata": {
        "id": "mfIMtw6BaiO1"
      },
      "source": [
        "## Pandas DataFrame: Reading the Auto.csv data\n",
        "\n",
        "> \n",
        "\n"
      ]
    },
    {
      "cell_type": "code",
      "execution_count": null,
      "metadata": {
        "id": "qQ5S72eoaiuA"
      },
      "outputs": [],
      "source": [
        "import pandas as pd\n",
        "\n",
        "dataframe = pd.read_csv('Auto.csv')\n",
        "\n",
        "print(dataframe) #Pandas will only return the first 5 rows unless specified with to_string()\n",
        "print(dataframe.info()) # Pandas medthod will output the demensions of the dtaset as well as provide additional info about the dataframe\n"
      ]
    },
    {
      "cell_type": "markdown",
      "metadata": {
        "id": "da6CMhXZas7m"
      },
      "source": [
        "## Pandas DataFrame: Data Exploration with Code"
      ]
    },
    {
      "cell_type": "code",
      "source": [
        "dataframe[[\"mpg\", \"weight\", \"year\"]].describe(include=\"all\") # This line extracts the specifc columns and the \"include=all\" parameter indicates that we want to compute descriptive statistics of all the columns\n",
        "\n",
        "# Print all this in a comment\n",
        "print(\"range of mpg: \", dataframe.mpg.max()-dataframe.mpg.min())\n",
        "print(\"range of weight: \", dataframe.weight.max()-dataframe.weight.min())\n",
        "print(\"range of year: \", dataframe.year.max()-dataframe.year.min()) \n",
        "\n",
        "print(\"average of mpg: \", dataframe[\"mpg\"].mean())\n",
        "print(\"average of weight: \", dataframe[\"weight\"].mean())\n",
        "print(\"average of year: \", dataframe[\"year\"].mean())\n",
        "\n",
        "\n",
        "\n"
      ],
      "metadata": {
        "id": "7XpcUUc0bIz3"
      },
      "execution_count": null,
      "outputs": []
    },
    {
      "cell_type": "code",
      "execution_count": null,
      "metadata": {
        "id": "PidN8TlvatXt"
      },
      "outputs": [],
      "source": []
    },
    {
      "cell_type": "markdown",
      "metadata": {
        "id": "-3GmnRDV--F_"
      },
      "source": [
        "## Pandas DataFrame: Exploring Data Types\n",
        "\n",
        "---\n",
        "\n"
      ]
    },
    {
      "cell_type": "code",
      "execution_count": null,
      "metadata": {
        "id": "y2_DTKp-9v2A"
      },
      "outputs": [],
      "source": [
        "datatypes = dataframe.dtypes\n",
        "\n",
        "print(datatypes) \n",
        "\n",
        "dataframe[\"cylinders\"] = dataframe[\"cylinders\"].astype(\"category\") # Change cylinders to categorical using cat.codes\n",
        "dataframe[\"origin\"] = dataframe[\"origin\"].astype(\"category\") # Change cylinders to categorical using cat.codes\n",
        "\n",
        "print(datatypes) # Printing the changed data tpyes\n"
      ]
    },
    {
      "cell_type": "markdown",
      "metadata": {
        "id": "emvt3RwC4U2L"
      },
      "source": [
        "## Pandas DataFrame: Dealing with NAs"
      ]
    },
    {
      "cell_type": "code",
      "execution_count": null,
      "metadata": {
        "id": "5chfuU3RPItU"
      },
      "outputs": [],
      "source": [
        "new_df = dataframe.dropna() # Applies the drop NA method and stores it into a new dataframe\n",
        "\n",
        "print(new_df) # Outputs new dataframe"
      ]
    },
    {
      "cell_type": "markdown",
      "metadata": {
        "id": "bHFe_2xK3WI7"
      },
      "source": [
        "## Pandas DataFrame: Modify Columns"
      ]
    },
    {
      "cell_type": "code",
      "execution_count": null,
      "metadata": {
        "id": "PbXpFR93PRtc"
      },
      "outputs": [],
      "source": [
        "import numpy as np\n",
        "import pandas as pd\n",
        "\n",
        "new_df[\"mpg_high\"] = np.where(new_df['mpg']> new_df[\"mpg\"].mean(), 1, 0)  # New column called mpg_high that stores \n",
        "\n",
        "#new_df.drop([\"mpg\", \"name\"], axis ='columns')\n",
        "new_df.pop('mpg')\n",
        "new_df.pop('name')\n",
        "\n",
        "print(new_df) "
      ]
    },
    {
      "cell_type": "markdown",
      "metadata": {
        "id": "BIgQb_ICbNu9"
      },
      "source": [
        "## Pandas DataFrame: Data Exploration with graphs\n"
      ]
    },
    {
      "cell_type": "code",
      "execution_count": null,
      "metadata": {
        "id": "0PAn5prJbOXk"
      },
      "outputs": [],
      "source": [
        "import seaborn as sns\n",
        "\n",
        "seacGraph = sns.catplot(col = \"mpg_high\", data = new_df) # Seaborn Catplot"
      ]
    },
    {
      "cell_type": "code",
      "source": [
        "import seaborn as sns\n",
        "\n",
        "searGraph = sns.relplot(x = \"horsepower\", y = \"weight\", hue = \"mpg_high\", data = new_df) # Seaborn Relplot"
      ],
      "metadata": {
        "id": "2Dd-PisrKSbl"
      },
      "execution_count": null,
      "outputs": []
    },
    {
      "cell_type": "code",
      "source": [
        "import seaborn\n",
        "\n",
        "seaBoxGraph = seaborn.boxplot(x = \"mpg_high\", y = \"weight\", data = new_df) # Seaborn Boxplot"
      ],
      "metadata": {
        "id": "BGhHNfgFKVRv"
      },
      "execution_count": null,
      "outputs": []
    },
    {
      "cell_type": "markdown",
      "metadata": {
        "id": "MEFOgYwT0jiY"
      },
      "source": [
        "## Pandas DataFrame: Train and Test Split without Mph_High"
      ]
    },
    {
      "cell_type": "code",
      "execution_count": null,
      "metadata": {
        "id": "gznADrAnbXGY"
      },
      "outputs": [],
      "source": [
        "import numpy as np\n",
        "from sklearn.model_selection import train_test_split\n",
        "\n",
        "#X = new_df.loc[:, features]\n",
        "#y = new_df.loc[:, ['mpg_high']]\n",
        "\n",
        "X = new_df.iloc[:, :-1]\n",
        "y = new_df.iloc[:, -1]\n",
        "\n",
        "X_train, X_test, y_train, y_test = train_test_split(X, y, test_size=0.2)\n",
        "\n",
        "np.random.seed(1234)\n",
        "\n",
        "print(\"\\nX_train:\\n\")\n",
        "print(X_train.head())\n",
        "print(X_train.shape)\n",
        "\n",
        "print(\"\\nX_test:\\n\")\n",
        "print(X_test.head())\n",
        "print(X_test.shape)\n",
        "\n"
      ]
    },
    {
      "cell_type": "markdown",
      "metadata": {
        "id": "4zoeyh7ndKKN"
      },
      "source": [
        "## R DataFrame: Logistic Regression"
      ]
    },
    {
      "cell_type": "code",
      "execution_count": null,
      "metadata": {
        "id": "1B_YCZUrbaFG"
      },
      "outputs": [],
      "source": [
        "# import the class\n",
        "from sklearn.linear_model import LogisticRegression\n",
        "from sklearn.metrics import classification_report\n",
        "\n",
        "# instantiate the model (using the default parameters)\n",
        "logreg = LogisticRegression(random_state=16, solver =\"lbfgs\")\n",
        "\n",
        "# fit the model with data\n",
        "logreg.fit(X_train, y_train)\n",
        "\n",
        "y_pred = logreg.predict(X_test)\n",
        "\n",
        "target_names = ['class 0', 'class 1']\n",
        "print(classification_report(y_test, y_pred, target_names=target_names))"
      ]
    },
    {
      "cell_type": "markdown",
      "metadata": {
        "id": "fDscd8p3hOqz"
      },
      "source": [
        "## Pandas DataFrame: Decision Trees"
      ]
    },
    {
      "cell_type": "code",
      "execution_count": null,
      "metadata": {
        "id": "YoRYanJrVV5g"
      },
      "outputs": [],
      "source": [
        "# Load libraries\n",
        "import pandas as pd\n",
        "from sklearn.metrics import classification_report\n",
        "from sklearn import tree\n",
        "from sklearn.tree import DecisionTreeClassifier # Import Decision Tree Classifier\n",
        "\n",
        "# Create Decision Tree classifer object\n",
        "clf = DecisionTreeClassifier()\n",
        "\n",
        "# Train Decision Tree Classifer\n",
        "clf = clf.fit(X_train,y_train)\n",
        "\n",
        "#Predict the response for test dataset\n",
        "y_pred = clf.predict(X_test)\n",
        "\n",
        "target_names = ['class 0', 'class 1']\n",
        "print(classification_report(y_test, y_pred, target_names=target_names))\n",
        "\n",
        "print(tree.plot_tree(clf))"
      ]
    },
    {
      "cell_type": "markdown",
      "metadata": {
        "id": "DyrfPExcbjFY"
      },
      "source": [
        "## Pandas: Neural Network"
      ]
    },
    {
      "cell_type": "code",
      "execution_count": null,
      "metadata": {
        "id": "T1-ozcpHbitV"
      },
      "outputs": [],
      "source": [
        "from sklearn.neural_network import MLPClassifier\n",
        "\n",
        "clf = MLPClassifier(random_state=1234, max_iter=300, hidden_layer_sizes = (6, 2)).fit(X_train, y_train)\n",
        "top1 = clf.predict_proba(X_test)\n",
        "print(top1)\n",
        "\n",
        "clf = MLPClassifier(random_state=1234, max_iter=300, hidden_layer_sizes = (3, 5)).fit(X_train, y_train)\n",
        "top2 = clf.predict_proba(X_test)\n",
        "print(top2)"
      ]
    },
    {
      "cell_type": "markdown",
      "metadata": {
        "id": "SIjbg2DUki9C"
      },
      "source": [
        "## Analysis"
      ]
    },
    {
      "cell_type": "markdown",
      "source": [
        "The Decision tree and the logistic regression model predicted close to similar values but the decision tree performed slightly better with an accuracy of 0.87. Python was easier to use than R, but I think in the general scheme of things because R has a tremendous amount of powerful libraries it out performs Python. "
      ],
      "metadata": {
        "id": "z91ibs9wEbBg"
      }
    }
  ],
  "metadata": {
    "colab": {
      "collapsed_sections": [],
      "private_outputs": true,
      "provenance": []
    },
    "kernelspec": {
      "display_name": "Python 3",
      "name": "python3"
    },
    "language_info": {
      "name": "python"
    }
  },
  "nbformat": 4,
  "nbformat_minor": 0
}